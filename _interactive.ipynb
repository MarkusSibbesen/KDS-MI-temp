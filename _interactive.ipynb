{
 "cells": [
  {
   "cell_type": "code",
   "execution_count": 1,
   "id": "e7cade80",
   "metadata": {},
   "outputs": [],
   "source": [
    "import os\n",
    "\n",
    "try:\n",
    "    has_changed_dir\n",
    "except:\n",
    "    has_changed_dir = False\n",
    "\n",
    "try:\n",
    "    import google.colab\n",
    "    IN_COLAB = True\n",
    "    print(\"Running as a Colab notebook\")\n",
    "except:\n",
    "    IN_COLAB = False\n",
    "\n",
    "if IN_COLAB:\n",
    "    %pip install datasets\n",
    "    %pip install translate-toolkit\n",
    "    #%pip install bitsandbytes\n",
    "\n",
    "    !git clone https://github.com/MartinKirkegaardDK/KDS_MI.git\n",
    "\n",
    "    if not has_changed_dir:\n",
    "        os.chdir('KDS_MI/refactor')\n",
    "        has_changed_dir = True\n",
    "else:\n",
    "    if not has_changed_dir:\n",
    "        os.chdir('.')\n",
    "        has_changed_dir = True"
   ]
  },
  {
   "cell_type": "code",
   "execution_count": 2,
   "id": "cf06f7df",
   "metadata": {},
   "outputs": [],
   "source": [
    "%load_ext autoreload\n",
    "%autoreload 2"
   ]
  },
  {
   "cell_type": "code",
   "execution_count": 5,
   "id": "bd6f4e54",
   "metadata": {},
   "outputs": [],
   "source": [
    "from make_steering_vectors import main"
   ]
  },
  {
   "cell_type": "code",
   "execution_count": 7,
   "id": "95b733f2",
   "metadata": {},
   "outputs": [
    {
     "name": "stderr",
     "output_type": "stream",
     "text": [
      "  0%|          | 0/26 [00:00<?, ?it/s]Asking to truncate to max_length but no maximum length is provided and the model has no predefined maximum length. Default to no truncation.\n",
      " 23%|██▎       | 6/26 [00:19<01:03,  3.19s/it]\n",
      " 20%|██        | 6/30 [00:05<00:23,  1.03it/s]\n",
      " 23%|██▎       | 6/26 [00:19<01:04,  3.21s/it]\n",
      " 20%|██        | 6/30 [00:14<00:56,  2.37s/it]\n",
      " 32%|███▏      | 6/19 [00:12<00:26,  2.03s/it]\n"
     ]
    }
   ],
   "source": [
    "main(\n",
    "    model_url='EleutherAI/pythia-14m',\n",
    "    target_language='da',\n",
    "    complement_languages=['en', 'sv', 'is', 'nb'],\n",
    "    device='cpu',\n",
    "    out_folder='steering_vectors'\n",
    ")"
   ]
  },
  {
   "cell_type": "code",
   "execution_count": null,
   "id": "32ea8e31",
   "metadata": {},
   "outputs": [],
   "source": [
    "from utils.hooking import HookManager\n",
    "from utils.compatibility import *\n",
    "from utils.data import load_steering_vector, load_bible_data\n",
    "\n",
    "from transformers import AutoModelForCausalLM, AutoTokenizer\n",
    "from steering_loss import plot_loss_for_steering_vectors"
   ]
  },
  {
   "cell_type": "code",
   "execution_count": 3,
   "id": "c5a3e42c",
   "metadata": {},
   "outputs": [
    {
     "ename": "NameError",
     "evalue": "name 'AutoModelForCausalLM' is not defined",
     "output_type": "error",
     "traceback": [
      "\u001b[1;31m---------------------------------------------------------------------------\u001b[0m",
      "\u001b[1;31mNameError\u001b[0m                                 Traceback (most recent call last)",
      "Cell \u001b[1;32mIn[3], line 4\u001b[0m\n\u001b[0;32m      1\u001b[0m model_url\u001b[38;5;241m=\u001b[39m\u001b[38;5;124m'\u001b[39m\u001b[38;5;124mEleutherAI/pythia-14m\u001b[39m\u001b[38;5;124m'\u001b[39m\n\u001b[0;32m      2\u001b[0m device \u001b[38;5;241m=\u001b[39m \u001b[38;5;124m'\u001b[39m\u001b[38;5;124mcpu\u001b[39m\u001b[38;5;124m'\u001b[39m\n\u001b[1;32m----> 4\u001b[0m model \u001b[38;5;241m=\u001b[39m \u001b[43mAutoModelForCausalLM\u001b[49m\u001b[38;5;241m.\u001b[39mfrom_pretrained(model_url)\u001b[38;5;241m.\u001b[39mto(device)\n\u001b[0;32m      5\u001b[0m tokenizer \u001b[38;5;241m=\u001b[39m AutoTokenizer\u001b[38;5;241m.\u001b[39mfrom_pretrained(model_url)\n",
      "\u001b[1;31mNameError\u001b[0m: name 'AutoModelForCausalLM' is not defined"
     ]
    }
   ],
   "source": [
    "model_url='EleutherAI/pythia-14m'\n",
    "device = 'cpu'\n",
    "\n",
    "model = AutoModelForCausalLM.from_pretrained(model_url).to(device)\n",
    "tokenizer = AutoTokenizer.from_pretrained(model_url)"
   ]
  },
  {
   "cell_type": "code",
   "execution_count": null,
   "id": "98364e17",
   "metadata": {},
   "outputs": [],
   "source": [
    "plot"
   ]
  }
 ],
 "metadata": {
  "kernelspec": {
   "display_name": "mechinterp",
   "language": "python",
   "name": "python3"
  },
  "language_info": {
   "codemirror_mode": {
    "name": "ipython",
    "version": 3
   },
   "file_extension": ".py",
   "mimetype": "text/x-python",
   "name": "python",
   "nbconvert_exporter": "python",
   "pygments_lexer": "ipython3",
   "version": "3.12.10"
  }
 },
 "nbformat": 4,
 "nbformat_minor": 5
}
